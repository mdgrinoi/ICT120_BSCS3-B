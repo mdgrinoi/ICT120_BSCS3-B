{
  "nbformat": 4,
  "nbformat_minor": 0,
  "metadata": {
    "colab": {
      "name": "Untitled2.ipynb",
      "provenance": [],
      "authorship_tag": "ABX9TyP93BUx+SotEL8HlzMYsrDY",
      "include_colab_link": true
    },
    "kernelspec": {
      "name": "python3",
      "display_name": "Python 3"
    },
    "language_info": {
      "name": "python"
    }
  },
  "cells": [
    {
      "cell_type": "markdown",
      "metadata": {
        "id": "view-in-github",
        "colab_type": "text"
      },
      "source": [
        "<a href=\"https://colab.research.google.com/github/mdgrinoi/ICT120_BSCS3-B/blob/main/MSE.ipynb\" target=\"_parent\"><img src=\"https://colab.research.google.com/assets/colab-badge.svg\" alt=\"Open In Colab\"/></a>"
      ]
    },
    {
      "cell_type": "code",
      "metadata": {
        "id": "9CcLn7Sq4v2y"
      },
      "source": [
        "from sklearn.metrics import mean_squared_error"
      ],
      "execution_count": 1,
      "outputs": []
    },
    {
      "cell_type": "code",
      "metadata": {
        "id": "hCFauDaX41xC"
      },
      "source": [
        "import math"
      ],
      "execution_count": 2,
      "outputs": []
    },
    {
      "cell_type": "code",
      "metadata": {
        "id": "b-KyFaiM46jo"
      },
      "source": [
        "#with overfitting"
      ],
      "execution_count": null,
      "outputs": []
    },
    {
      "cell_type": "code",
      "metadata": {
        "id": "3jpNyJdG4_s4"
      },
      "source": [
        "trainingAccuracy = [0.4386920928955078, 0.6106948256492615, 0.6927793025970459, 0.7752043604850769, 0.8453678488731384, 0.9202997088432312, 0.9587874412536621, 0.9591280817985535, 0.9850136041641235, 0.9904631972312927]"
      ],
      "execution_count": 22,
      "outputs": []
    },
    {
      "cell_type": "code",
      "metadata": {
        "id": "Auqi60j25FZY"
      },
      "source": [
        "validationAccuracy =  [0.5722070932388306, 0.6049046516418457, 0.6416893601417542, 0.6335150003433228, 0.6389645934104919, 0.6198909878730774, 0.5858310461044312, 0.6144413948059082, 0.6130790114402771, 0.6130790114402771]"
      ],
      "execution_count": 23,
      "outputs": []
    },
    {
      "cell_type": "code",
      "metadata": {
        "id": "82fsAFWI5NZR"
      },
      "source": [
        "trainingLoss =[1.3594300746917725, 0.9980723857879639, 0.7990550398826599, 0.6195586323738098, 0.411776602268219, 0.2516178488731384, 0.13014957308769226, 0.13787661492824554, 0.065921850502491, 0.0377054437994957]"
      ],
      "execution_count": 24,
      "outputs": []
    },
    {
      "cell_type": "code",
      "metadata": {
        "id": "ekDIwNM25Nhn"
      },
      "source": [
        "validationLoss = [1.1038720607757568, 1.0010794401168823, 0.9540247917175293, 0.9668806195259094, 1.1171032190322876, 1.2413949966430664, 1.6098625659942627, 1.6390355825424194, 1.9332191944122314, 2.170125722885132]"
      ],
      "execution_count": 25,
      "outputs": []
    },
    {
      "cell_type": "code",
      "metadata": {
        "colab": {
          "base_uri": "https://localhost:8080/"
        },
        "id": "pUTASfRb5NoA",
        "outputId": "bc192533-8924-4c97-d330-2aef2a39d972"
      },
      "source": [
        "print(\"The train mean squared error: \"+str(mean_squared_error(trainingAccuracy,validationAccuracy)))"
      ],
      "execution_count": 26,
      "outputs": [
        {
          "output_type": "stream",
          "text": [
            "The train mean squared error: 0.0712053091752157\n"
          ],
          "name": "stdout"
        }
      ]
    },
    {
      "cell_type": "code",
      "metadata": {
        "colab": {
          "base_uri": "https://localhost:8080/"
        },
        "id": "G2UPfE4c5nXy",
        "outputId": "d6ddf7f3-c6d0-4ca9-a5b4-97cd7d8d65d8"
      },
      "source": [
        "print(\"The validation mean squared error: \"+str(mean_squared_error(trainingLoss,validationLoss)))"
      ],
      "execution_count": 27,
      "outputs": [
        {
          "output_type": "stream",
          "text": [
            "The validation mean squared error: 1.416415597081191\n"
          ],
          "name": "stdout"
        }
      ]
    },
    {
      "cell_type": "code",
      "metadata": {
        "id": "QHdia3ss5wUh"
      },
      "source": [
        "#with data augmmentation and dropout"
      ],
      "execution_count": null,
      "outputs": []
    },
    {
      "cell_type": "code",
      "metadata": {
        "id": "h8asrPkc5xO5"
      },
      "source": [
        "trainingAccuracy = [0.3879427909851074, 0.5626702904701233, 0.6280654072761536, 0.6549727320671082, 0.678814709186554, 0.6955040693283081, 0.7043596506118774, 0.725476861000061, 0.7285422086715698, 0.7438691854476929, 0.7530654072761536, 0.763283371925354, 0.7752043604850769, 0.7871253490447998, 0.7830381393432617]"
      ],
      "execution_count": 16,
      "outputs": []
    },
    {
      "cell_type": "code",
      "metadata": {
        "id": "PQc5jeZ756bA"
      },
      "source": [
        "validationAccuracy = [0.47956404089927673, 0.5667575001716614, 0.6376021504402161, 0.6212534308433533, 0.6294277906417847, 0.6594005227088928, 0.6689373254776001, 0.664850115776062, 0.7070844769477844, 0.7125340700149536, 0.7098092436790466, 0.7193460464477539, 0.7220708727836609, 0.720708429813385, 0.723433256149292]"
      ],
      "execution_count": 17,
      "outputs": []
    },
    {
      "cell_type": "code",
      "metadata": {
        "id": "rsTapV0B56gS"
      },
      "source": [
        "trainingLoss = [1.4472421407699585, 1.0801714658737183, 0.9693395495414734, 0.8950740098953247, 0.8417591452598572, 0.7917823195457458, 0.7728613018989563, 0.7226924896240234, 0.7145279049873352, 0.6714728474617004, 0.6440888047218323, 0.6296088099479675, 0.6020949482917786, 0.5700065493583679, 0.5604985356330872]"
      ],
      "execution_count": 18,
      "outputs": []
    },
    {
      "cell_type": "code",
      "metadata": {
        "id": "rL_MyUB856kY"
      },
      "source": [
        "validationLoss = [1.2209380865097046, 1.1082422733306885, 0.9196537137031555, 0.9786503911018372, 0.9671950936317444, 0.898727297782898, 0.8430177569389343, 0.8804550170898438, 0.8049322962760925, 0.7612789273262024, 0.7940347790718079, 0.7470208406448364, 0.7289096713066101, 0.7683680653572083, 0.7600080966949463]"
      ],
      "execution_count": 19,
      "outputs": []
    },
    {
      "cell_type": "code",
      "metadata": {
        "colab": {
          "base_uri": "https://localhost:8080/"
        },
        "id": "b0zCUFBZ56np",
        "outputId": "3d6f9fe5-0e12-4c2d-97e2-d3dbd6c03d83"
      },
      "source": [
        "print(\"The train mean squared error: \"+str(mean_squared_error(trainingAccuracy,validationAccuracy)))"
      ],
      "execution_count": 20,
      "outputs": [
        {
          "output_type": "stream",
          "text": [
            "The train mean squared error: 0.0022895334243766404\n"
          ],
          "name": "stdout"
        }
      ]
    },
    {
      "cell_type": "code",
      "metadata": {
        "colab": {
          "base_uri": "https://localhost:8080/"
        },
        "id": "80lY6-v956rL",
        "outputId": "19e31341-236c-4cf5-c239-9ef046617f40"
      },
      "source": [
        "print(\"The validation mean squared error: \"+str(mean_squared_error(trainingLoss,validationLoss)))"
      ],
      "execution_count": 21,
      "outputs": [
        {
          "output_type": "stream",
          "text": [
            "The validation mean squared error: 0.01774522225557007\n"
          ],
          "name": "stdout"
        }
      ]
    }
  ]
}